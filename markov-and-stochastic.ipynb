{
 "cells": [
  {
   "cell_type": "code",
   "execution_count": null,
   "metadata": {},
   "outputs": [],
   "source": [
    "%matplotlib inline\n",
    "from matplotlib import pyplot as plt \n",
    "import kinetics_simulator as ks\n",
    "import numpy as np"
   ]
  },
  {
   "cell_type": "code",
   "execution_count": null,
   "metadata": {},
   "outputs": [],
   "source": [
    "# Define a reaction:\n",
    "\n",
    "rxn = \\\n",
    "\"\"\"\n",
    "A = 1000\n",
    "B = 60\n",
    "C = 20\n",
    "\n",
    "A -> B; 1\n",
    "B -> C; 5\n",
    "C -> A; 0.1\n",
    "\"\"\""
   ]
  },
  {
   "cell_type": "markdown",
   "metadata": {},
   "source": [
    "### Run the reaction as a deterministic Markov matrix"
   ]
  },
  {
   "cell_type": "code",
   "execution_count": null,
   "metadata": {},
   "outputs": [],
   "source": [
    "# create markov model, choosing dt such that p_self is 0.999\n",
    "m = ks.MarkovModel(rxn,min_self_prob=0.999)\n",
    "\n",
    "# run 10,000 time steps\n",
    "for i in range(10000):\n",
    "    m.take_step()\n",
    "\n",
    "# Plot result\n",
    "plt.plot(m.conc_history.time,m.conc_history.A,label=\"A\")\n",
    "plt.plot(m.conc_history.time,m.conc_history.B,label=\"B\")\n",
    "plt.plot(m.conc_history.time,m.conc_history.C,label=\"C\")\n",
    "plt.legend(frameon=False)\n",
    "plt.xlabel(\"time (s)\")\n",
    "plt.ylabel(\"# molecules\")\n",
    "plt.title(\"Markov matrix, deterministic simulation\")\n",
    "None"
   ]
  },
  {
   "cell_type": "markdown",
   "metadata": {},
   "source": [
    "### Run reaction as a stochastic Gillespie simulation"
   ]
  },
  {
   "cell_type": "code",
   "execution_count": null,
   "metadata": {},
   "outputs": [],
   "source": [
    "# create markov model\n",
    "g = ks.Gillespie(rxn)\n",
    "\n",
    "# Run 2,000 time steps (will correspond to ~2 seconds)\n",
    "for i in range(2000):\n",
    "    g.take_step()\n",
    "    \n",
    "# Plot result\n",
    "plt.plot(g.conc_history.time,g.conc_history.A,label=\"A\")\n",
    "plt.plot(g.conc_history.time,g.conc_history.B,label=\"B\")\n",
    "plt.plot(g.conc_history.time,g.conc_history.C,label=\"C\")\n",
    "plt.legend(frameon=False)\n",
    "plt.xlabel(\"time (s)\")\n",
    "plt.ylabel(\"# molecules\")\n",
    "plt.title(\"Gillespie, stochastic simulation\")\n",
    "None"
   ]
  },
  {
   "cell_type": "markdown",
   "metadata": {},
   "source": [
    "### Compare stochastic and deterministic simulations"
   ]
  },
  {
   "cell_type": "code",
   "execution_count": null,
   "metadata": {
    "scrolled": false
   },
   "outputs": [],
   "source": [
    "# Run num_reps replicate simulations\n",
    "num_reps = 50\n",
    "for i in range(num_reps):\n",
    "    \n",
    "    # Create new gillespie model and run for 2,000 steps\n",
    "    g = ks.Gillespie(rxn)\n",
    "    for j in range(2000):\n",
    "        g.take_step()\n",
    "    \n",
    "    # Plot replicate result as gray line\n",
    "    plt.plot(g.conc_history.time,g.conc_history.B,\".\",color=\"{}\".format(0.8*(i+1)/num_reps))\n",
    "    \n",
    "    # Add to average output\n",
    "    if i == 0:\n",
    "        avg = np.copy(g.conc_history.B)\n",
    "    else:\n",
    "        avg += g.conc_history.B\n",
    "    \n",
    "# Finalize average and plot as a red line.\n",
    "avg = avg/num_reps\n",
    "plt.plot(g.conc_history.time,avg,\"-\",lw=10,color=\"red\",label=\"avg gillespie\")\n",
    "    \n",
    "# Plot markov model as a black line\n",
    "plt.plot(m.conc_history.time,m.conc_history.B,\"-\",lw=5,color=\"black\",label=\"markov\")\n",
    "plt.xlabel(\"time (s)\")\n",
    "plt.ylabel(\"# molecules of B\")\n",
    "plt.title(\"compare stochastic and deterministic simulations\")\n",
    "plt.legend(frameon=False)\n",
    "None\n"
   ]
  },
  {
   "cell_type": "markdown",
   "metadata": {},
   "source": [
    "### Create your own gillespie reaction below\n",
    "\n",
    "+ Define all reactions in the rxn field as: \n",
    "    ```\n",
    "    s1 + s2 -> s3; rate\n",
    "    ...\n",
    "    ```\n",
    "+ Set initial concentrations of all species in the rxn field as: \n",
    "    ```\n",
    "    s1 = 5\n",
    "    s2 = 0\n",
    "    s3 = 2\n",
    "    ...\n",
    "    ```\n",
    "+ Alter the plot call to plot your species of interest:\n",
    "    ```\n",
    "    gplt.plot(g.conc_history.time,g.conc_history.XXX)\n",
    "    ```\n",
    "    becomes something like\n",
    "    ```\n",
    "    plt.plot(g.conc_history.time,g.conc_history.s1)\n",
    "    ```"
   ]
  },
  {
   "cell_type": "code",
   "execution_count": null,
   "metadata": {},
   "outputs": [],
   "source": [
    "rxn = \\\n",
    "\"\"\"\n",
    "\"\"\"\n",
    "\n",
    "# create markov model\n",
    "g = ks.Gillespie(rxn)\n",
    "\n",
    "for i in range(2000):\n",
    "    g.take_step()\n",
    "    \n",
    "plt.plot(g.conc_history.time,g.conc_history.XXX)\n"
   ]
  },
  {
   "cell_type": "markdown",
   "metadata": {},
   "source": [
    "### Construct the basic actin polymerization reaction\n",
    "\n",
    "The code below code creates a `rxn` entry where:  \n",
    "+ formation of up to trimers is slow (`k = 0.001`)\n",
    "+ formation of tetramers and higher is fast (`k = 1.000`)\n",
    "+ initial number of monomers is `10,000`\n",
    "+ initial number of all other species is `0`\n",
    "+ filaments of up to `200` subunits can form\n"
   ]
  },
  {
   "cell_type": "code",
   "execution_count": null,
   "metadata": {},
   "outputs": [],
   "source": [
    "rxn_lines =     [\"A1 + A1 -> A2; 0.001\"]\n",
    "rxn_lines.append(\"A2 -> A1 + A1; 1.000\")\n",
    "\n",
    "rxn_lines.append(\"A1 + A2 -> A3; 0.001\")\n",
    "rxn_lines.append(\"A3 -> A2 + A1; 1.000\")\n",
    "\n",
    "rxn_lines.append(\"A1 = 1000\")\n",
    "rxn_lines.append(\"A2 = 0\")\n",
    "\n",
    "for i in range(3,150):\n",
    "    rxn_lines.append(\"A1 + A{} -> A{}; 1.000\".format(i,i+1))\n",
    "    rxn_lines.append(\"A{} -> A1 + A{}; 0.001\".format(i+1,i))\n",
    "    rxn_lines.append(\"A{} = 0\".format(i))\n",
    "rxn_lines.append(\"A{} = 0\".format(i+1))\n",
    "\n",
    "rxn = \"\\n\".join(rxn_lines)\n",
    "\n",
    "print(\"\\n\".join(rxn_lines[:12]))\n",
    "print(\"...\")"
   ]
  },
  {
   "cell_type": "code",
   "execution_count": null,
   "metadata": {},
   "outputs": [],
   "source": [
    "def plot_actin(history,invisible_species=(\"A1\",\"A2\",\"A3\",\"A4\",\"ARP\"),time_scalar=3000):\n",
    " \n",
    "    signal = []\n",
    "    for c in history.columns:\n",
    "        if c[0] != \"A\":\n",
    "            signal.append(0)\n",
    "        else:\n",
    "            if c in invisible_species:\n",
    "                signal.append(0)\n",
    "            else:\n",
    "                signal.append(float(c[1:].split(\"_\")[0]))\n",
    "\n",
    "    signal_vector = np.array(signal)\n",
    "    \n",
    "    final_signal = np.sum(signal_vector*history.iloc[:,:],1)\n",
    "    plt.plot(history.time*time_scalar,final_signal,lw=2)\n",
    "    plt.xlabel(\"time (s)\")\n",
    "    plt.ylabel(\"fluorescence\")\n",
    "            \n"
   ]
  },
  {
   "cell_type": "code",
   "execution_count": null,
   "metadata": {},
   "outputs": [],
   "source": [
    "mech1 = \\\n",
    "\"\"\"\n",
    "DIP_ARP = 0\n",
    "A2_ARP = 0\n",
    "A1_DIP_ARP = 0\n",
    "A2_DIP_ARP = 0\n",
    "A3_DIP_ARP = 0\n",
    "\n",
    "A2 + ARP -> A2_ARP; 1\n",
    "A2_ARP + DIP -> A2_DIP_ARP; 1\n",
    "A1 + A2_DIP_ARP -> A3_DIP_ARP; 1\n",
    "A1 + A3_DIP_ARP -> A4; 1\n",
    "\"\"\"\n",
    "\n",
    "mech2 = \\\n",
    "\"\"\"\n",
    "DIP_ARP = 0\n",
    "A2_ARP = 0\n",
    "A1_DIP_ARP = 0\n",
    "A2_DIP_ARP = 0\n",
    "A3_DIP_ARP = 0\n",
    "\n",
    "DIP + ARP -> DIP_ARP; 1\n",
    "A1 + DIP_ARP -> A1_DIP_ARP; 1\n",
    "A1 + A1_DIP_ARP -> A2_DIP_ARP; 1  \n",
    "A1 + A2_DIP_ARP -> A3_DIP_ARP; 1\n",
    "A1 + A3_DIP_ARP -> A4; 1\n",
    "\"\"\""
   ]
  },
  {
   "cell_type": "code",
   "execution_count": null,
   "metadata": {},
   "outputs": [],
   "source": [
    "# Reaction, no effectors\n",
    "g = ks.Gillespie(rxn)\n",
    "for i in range(1000):\n",
    "    g.take_step()\n",
    "plot_actin(g.conc_history)"
   ]
  },
  {
   "cell_type": "code",
   "execution_count": null,
   "metadata": {},
   "outputs": [],
   "source": [
    "# Mechanism #1\n",
    "\n",
    "plot_actin(g.conc_history)\n",
    "\n",
    "for c in [10,25,100]: \n",
    "\n",
    "    initial_conc = \"DIP = {}\\n ARP = 20\\n\".format(c)\n",
    "    \n",
    "    h = ks.Gillespie(rxn + mech1 + initial_conc)\n",
    "    for i in range(1000):\n",
    "        h.take_step()\n",
    "\n",
    "    plot_actin(h.conc_history)"
   ]
  },
  {
   "cell_type": "code",
   "execution_count": null,
   "metadata": {},
   "outputs": [],
   "source": [
    "# Mechanism #2 \n",
    "\n",
    "plot_actin(g.conc_history)\n",
    "\n",
    "for c in [10,25,100]:\n",
    "\n",
    "    initial_conc = \"DIP = {}\\n ARP = 20\\n\".format(c)\n",
    "    \n",
    "    h = ks.Gillespie(rxn + mech2 + initial_conc)\n",
    "    for i in range(1000):\n",
    "        h.take_step()\n",
    "\n",
    "    plot_actin(h.conc_history)"
   ]
  }
 ],
 "metadata": {
  "kernelspec": {
   "display_name": "Python 3",
   "language": "python",
   "name": "python3"
  },
  "language_info": {
   "codemirror_mode": {
    "name": "ipython",
    "version": 3
   },
   "file_extension": ".py",
   "mimetype": "text/x-python",
   "name": "python",
   "nbconvert_exporter": "python",
   "pygments_lexer": "ipython3",
   "version": "3.7.3"
  }
 },
 "nbformat": 4,
 "nbformat_minor": 2
}
